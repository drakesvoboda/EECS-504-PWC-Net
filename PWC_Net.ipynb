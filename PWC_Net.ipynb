{
  "nbformat": 4,
  "nbformat_minor": 0,
  "metadata": {
    "colab": {
      "name": "PWC Net.ipynb",
      "provenance": [],
      "collapsed_sections": [],
      "toc_visible": true,
      "include_colab_link": true
    },
    "kernelspec": {
      "name": "python3",
      "display_name": "Python 3"
    }
  },
  "cells": [
    {
      "cell_type": "markdown",
      "metadata": {
        "id": "view-in-github",
        "colab_type": "text"
      },
      "source": [
        "<a href=\"https://colab.research.google.com/github/drakesvoboda/EECS-504-PWC-Net/blob/master/PWC_Net.ipynb\" target=\"_parent\"><img src=\"https://colab.research.google.com/assets/colab-badge.svg\" alt=\"Open In Colab\"/></a>"
      ]
    },
    {
      "cell_type": "code",
      "metadata": {
        "id": "gqEExLxQw2dR",
        "colab_type": "code",
        "outputId": "3f837104-dc44-4f69-e409-7baa0d1a6fb9",
        "colab": {
          "base_uri": "https://localhost:8080/",
          "height": 35
        }
      },
      "source": [
        "from google.colab import drive\n",
        "drive.mount('/content/gdrive')"
      ],
      "execution_count": 0,
      "outputs": [
        {
          "output_type": "stream",
          "text": [
            "Drive already mounted at /content/gdrive; to attempt to forcibly remount, call drive.mount(\"/content/gdrive\", force_remount=True).\n"
          ],
          "name": "stdout"
        }
      ]
    },
    {
      "cell_type": "code",
      "metadata": {
        "id": "vk6KrWRX02qw",
        "colab_type": "code",
        "colab": {}
      },
      "source": [
        "!wget https://s3.eu-central-1.amazonaws.com/avg-kitti/data_scene_flow.zip\n",
        "!unzip data_scene_flow.zip"
      ],
      "execution_count": 0,
      "outputs": []
    },
    {
      "cell_type": "markdown",
      "metadata": {
        "id": "Dz_660LZ2395",
        "colab_type": "text"
      },
      "source": [
        "# New Section"
      ]
    },
    {
      "cell_type": "code",
      "metadata": {
        "id": "ijXW0h80w9ou",
        "colab_type": "code",
        "outputId": "d8208ff1-8237-421d-df81-9542de509f07",
        "colab": {
          "base_uri": "https://localhost:8080/",
          "height": 127
        }
      },
      "source": [
        "!git clone https://gitlab.eecs.umich.edu/drakes/eecs504-pwc-net\n",
        "import sys\n",
        "sys.path.append('/content/eecs504-pwc-net')"
      ],
      "execution_count": 0,
      "outputs": [
        {
          "output_type": "stream",
          "text": [
            "Cloning into 'eecs504-pwc-net'...\n",
            "warning: redirecting to https://gitlab.eecs.umich.edu/drakes/eecs504-pwc-net.git/\n",
            "remote: Enumerating objects: 3, done.\u001b[K\n",
            "remote: Counting objects: 100% (3/3), done.\u001b[K\n",
            "remote: Total 3 (delta 0), reused 0 (delta 0), pack-reused 0\u001b[K\n",
            "Unpacking objects: 100% (3/3), done.\n"
          ],
          "name": "stdout"
        }
      ]
    },
    {
      "cell_type": "code",
      "metadata": {
        "id": "MoA_a5bE17Vb",
        "colab_type": "code",
        "colab": {}
      },
      "source": [
        "!python ./content/eecs504-pwc-net/train.py --data-dir=./data_scene_flow.zip"
      ],
      "execution_count": 0,
      "outputs": []
    }
  ]
}