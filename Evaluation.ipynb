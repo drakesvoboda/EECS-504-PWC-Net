{
  "nbformat": 4,
  "nbformat_minor": 0,
  "metadata": {
    "colab": {
      "name": "Evaluation.ipynb",
      "provenance": [],
      "toc_visible": true,
      "include_colab_link": true
    },
    "kernelspec": {
      "name": "python3",
      "display_name": "Python 3"
    }
  },
  "cells": [
    {
      "cell_type": "markdown",
      "metadata": {
        "id": "view-in-github",
        "colab_type": "text"
      },
      "source": [
        "<a href=\"https://colab.research.google.com/github/drakesvoboda/EECS-504-PWC-Net/blob/master/Evaluation.ipynb\" target=\"_parent\"><img src=\"https://colab.research.google.com/assets/colab-badge.svg\" alt=\"Open In Colab\"/></a>"
      ]
    },
    {
      "cell_type": "markdown",
      "metadata": {
        "id": "ne1K16lDrLpu",
        "colab_type": "text"
      },
      "source": [
        "# Setup"
      ]
    },
    {
      "cell_type": "markdown",
      "metadata": {
        "id": "5LGUSuxhRZ2a",
        "colab_type": "text"
      },
      "source": [
        "## Mount Drive"
      ]
    },
    {
      "cell_type": "code",
      "metadata": {
        "id": "lDg39Juqp_8m",
        "colab_type": "code",
        "outputId": "cf08cc98-f9aa-4e01-b3ca-d64d7b1dfaad",
        "colab": {
          "base_uri": "https://localhost:8080/",
          "height": 35
        }
      },
      "source": [
        "import os\n",
        "from google.colab import drive\n",
        "drive.mount('/content/drive')"
      ],
      "execution_count": 0,
      "outputs": [
        {
          "output_type": "stream",
          "text": [
            "Drive already mounted at /content/drive; to attempt to forcibly remount, call drive.mount(\"/content/drive\", force_remount=True).\n"
          ],
          "name": "stdout"
        }
      ]
    },
    {
      "cell_type": "markdown",
      "metadata": {
        "id": "khW3GkNZRdGi",
        "colab_type": "text"
      },
      "source": [
        "## Mount Git Repo"
      ]
    },
    {
      "cell_type": "code",
      "metadata": {
        "id": "EQcLUConrTuA",
        "colab_type": "code",
        "outputId": "f3d4e8f8-0fb9-4322-f969-3614672cec2c",
        "colab": {
          "base_uri": "https://localhost:8080/",
          "height": 35
        }
      },
      "source": [
        "os.chdir('/content')\n",
        "!git clone https://github.com/drakesvoboda/EECS-504-PWC-Net"
      ],
      "execution_count": 0,
      "outputs": [
        {
          "output_type": "stream",
          "text": [
            "fatal: destination path 'EECS-504-PWC-Net' already exists and is not an empty directory.\n"
          ],
          "name": "stdout"
        }
      ]
    },
    {
      "cell_type": "code",
      "metadata": {
        "id": "uJV75gXjR0qD",
        "colab_type": "code",
        "outputId": "ca59db2e-ba7b-4f37-9590-2b28b0d6d4e3",
        "colab": {
          "base_uri": "https://localhost:8080/",
          "height": 217
        }
      },
      "source": [
        "os.chdir('/content/EECS-504-PWC-Net')\n",
        "!git pull\n",
        "os.chdir('/content')"
      ],
      "execution_count": 0,
      "outputs": [
        {
          "output_type": "stream",
          "text": [
            "remote: Enumerating objects: 5, done.\u001b[K\n",
            "remote: Counting objects:  20% (1/5)\u001b[K\rremote: Counting objects:  40% (2/5)\u001b[K\rremote: Counting objects:  60% (3/5)\u001b[K\rremote: Counting objects:  80% (4/5)\u001b[K\rremote: Counting objects: 100% (5/5)\u001b[K\rremote: Counting objects: 100% (5/5), done.\u001b[K\n",
            "remote: Compressing objects: 100% (1/1)\u001b[K\rremote: Compressing objects: 100% (1/1), done.\u001b[K\n",
            "remote: Total 3 (delta 2), reused 3 (delta 2), pack-reused 0\u001b[K\n",
            "Unpacking objects:  33% (1/3)   \rUnpacking objects:  66% (2/3)   \rUnpacking objects: 100% (3/3)   \rUnpacking objects: 100% (3/3), done.\n",
            "From https://github.com/drakesvoboda/EECS-504-PWC-Net\n",
            "   69777e2..1f684ba  master     -> origin/master\n",
            "Updating 69777e2..1f684ba\n",
            "Fast-forward\n",
            " evaluation.py | 2 \u001b[32m+\u001b[m\u001b[31m-\u001b[m\n",
            " 1 file changed, 1 insertion(+), 1 deletion(-)\n"
          ],
          "name": "stdout"
        }
      ]
    },
    {
      "cell_type": "code",
      "metadata": {
        "id": "MrsiONSWrbZd",
        "colab_type": "code",
        "colab": {}
      },
      "source": [
        "import sys\n",
        "sys.path.append('/content/EECS-504-PWC-Net')"
      ],
      "execution_count": 0,
      "outputs": []
    },
    {
      "cell_type": "markdown",
      "metadata": {
        "id": "haNW1P3jRqZW",
        "colab_type": "text"
      },
      "source": [
        "## Libraries"
      ]
    },
    {
      "cell_type": "code",
      "metadata": {
        "id": "3v_ZKXE9RtRb",
        "colab_type": "code",
        "colab": {}
      },
      "source": [
        "# !pip install pypng\n",
        "# !pip install flow_vis"
      ],
      "execution_count": 0,
      "outputs": []
    },
    {
      "cell_type": "code",
      "metadata": {
        "id": "VitmweEVrjIa",
        "colab_type": "code",
        "colab": {}
      },
      "source": [
        "from util import *\n",
        "from evaluation import *\n",
        "import cv2\n",
        "import matplotlib.pyplot as plt"
      ],
      "execution_count": 0,
      "outputs": []
    },
    {
      "cell_type": "markdown",
      "metadata": {
        "id": "h0UyPXL6t6Z0",
        "colab_type": "text"
      },
      "source": [
        "# Evalutation\n"
      ]
    },
    {
      "cell_type": "markdown",
      "metadata": {
        "id": "Pv-QsMfUVM8W",
        "colab_type": "text"
      },
      "source": [
        "## Test Case"
      ]
    },
    {
      "cell_type": "code",
      "metadata": {
        "id": "eSxcPKfr5hAP",
        "colab_type": "code",
        "outputId": "7e791a30-155a-4401-cc08-ecda73606441",
        "colab": {
          "base_uri": "https://localhost:8080/",
          "height": 72
        }
      },
      "source": [
        "import time\n",
        "root_gt = '/content/drive/Shared drives/EECS 504 PWC Net/Test Images/'\n",
        "root_est = '/content/drive/Shared drives/EECS 504 PWC Net/Test Images/'\n",
        "\n",
        "img_gt = 'flow_gt.png'\n",
        "img_est = 'flow_est.png'\n",
        "F_gt = read_png_flow(root_gt+img_gt)\n",
        "F_est = read_png_flow(root_est+img_est) \n",
        "\n",
        "t = time.time()\n",
        "fl_all, aepe = flow_error(F_gt, F_est)\n",
        "elapsed = time.time() - t\n",
        "print('Fl-All: ', fl_all)\n",
        "print('AEPE: ', aepe)\n",
        "print('Time: ', elapsed)"
      ],
      "execution_count": 0,
      "outputs": [
        {
          "output_type": "stream",
          "text": [
            "Fl-All 0.20687889621472072\n",
            "AEPE:  12.200722590595454\n",
            "Time:  0.02191758155822754\n"
          ],
          "name": "stdout"
        }
      ]
    },
    {
      "cell_type": "markdown",
      "metadata": {
        "id": "ktfE8mEvVRLQ",
        "colab_type": "text"
      },
      "source": [
        "## Dense GF "
      ]
    },
    {
      "cell_type": "code",
      "metadata": {
        "id": "apviBZZaVQik",
        "colab_type": "code",
        "outputId": "d65abc8d-0b01-432e-b5f1-6711c826530c",
        "colab": {
          "base_uri": "https://localhost:8080/",
          "height": 54
        }
      },
      "source": [
        "from pathlib import Path\n",
        "\n",
        "root_gt = '/content/drive/Shared drives/EECS 504 PWC Net/Data/data_scene_flow/training/flow_occ/'\n",
        "root_est = '/content/drive/Shared drives/EECS 504 PWC Net/Results/Baseline_Results/Dense_GF/image_2/'\n",
        "\n",
        "image_dir = Path(root_gt)\n",
        "\n",
        "im = sorted([os.path.basename(x) for x in image_dir.glob('*_10.png')])\n",
        "FL = np.asarray([])\n",
        "AEPE = np.asarray([])\n",
        "\n",
        "for img_name in im:\n",
        "    F_gt = read_png_flow(root_gt+img_name)\n",
        "    F_est = read_png_flow(root_est+img_name) \n",
        "    fl, aepe = flow_error(F_gt, F_est)\n",
        "    FL = np.append(FL, fl)\n",
        "    AEPE = np.append(AEPE, aepe)\n",
        "\n",
        "FL_avg = np.mean(FL)\n",
        "AEPE_avg = np.mean(AEPE)\n",
        "print('Fl-All Average:', FL_avg)\n",
        "print('AEPE Average: ', AEPE_avg)"
      ],
      "execution_count": 0,
      "outputs": [
        {
          "output_type": "stream",
          "text": [
            "Fl-All Average: 0.20687889621472072\n",
            "AEPE Average:  26.648953058652193\n"
          ],
          "name": "stdout"
        }
      ]
    },
    {
      "cell_type": "code",
      "metadata": {
        "id": "T0_hoNrEaDEC",
        "colab_type": "code",
        "outputId": "7abc4aed-0c00-4b4b-f30a-e6dde2af0dd9",
        "colab": {
          "base_uri": "https://localhost:8080/",
          "height": 54
        }
      },
      "source": [
        "print('Fl-All Average:', FL_avg)\n",
        "print('AEPE Average: ', AEPE_avg)"
      ],
      "execution_count": 0,
      "outputs": [
        {
          "output_type": "stream",
          "text": [
            "Fl-All Average: 0.5650782233788831\n",
            "AEPE Average:  28.24519737315484\n"
          ],
          "name": "stdout"
        }
      ]
    },
    {
      "cell_type": "code",
      "metadata": {
        "id": "MrMx8TkiYnuE",
        "colab_type": "code",
        "outputId": "cb4c6094-2bfe-4803-b642-7b209e71bcff",
        "colab": {
          "base_uri": "https://localhost:8080/",
          "height": 54
        }
      },
      "source": [
        "from pathlib import Path\n",
        "\n",
        "root_gt = '/content/drive/Shared drives/EECS 504 PWC Net/Data/data_scene_flow/training/flow_occ/'\n",
        "root_est = '/content/drive/Shared drives/EECS 504 PWC Net/Results/Baseline_Results/Dense_GF/image_3/'\n",
        "\n",
        "image_dir = Path(root_gt)\n",
        "\n",
        "im = sorted([os.path.basename(x) for x in image_dir.glob('*_10.png')])\n",
        "FL = np.asarray([])\n",
        "AEPE = np.asarray([])\n",
        "\n",
        "for img_name in im:\n",
        "    F_gt = read_png_flow(root_gt+img_name)\n",
        "    F_est = read_png_flow(root_est+img_name) \n",
        "    fl, aepe = flow_error(F_gt, F_est)\n",
        "    FL = np.append(FL, fl)\n",
        "    AEPE = np.append(AEPE, aepe)\n",
        "\n",
        "FL_avg = np.mean(FL)\n",
        "AEPE_avg = np.mean(AEPE)\n",
        "print('Fl-All Average:', FL_avg)\n",
        "print('AEPE Average: ', AEPE_avg)"
      ],
      "execution_count": 0,
      "outputs": [
        {
          "output_type": "stream",
          "text": [
            "Fl-All Average: 0.20687889621472072\n",
            "AEPE Average:  27.149680983203925\n"
          ],
          "name": "stdout"
        }
      ]
    },
    {
      "cell_type": "code",
      "metadata": {
        "id": "WsRzcrH_dzpC",
        "colab_type": "code",
        "outputId": "fb96e2f3-d9c7-41f2-caa9-72d44afc634d",
        "colab": {
          "base_uri": "https://localhost:8080/",
          "height": 54
        }
      },
      "source": [
        "print('Fl-All Average:', FL_avg)\n",
        "print('AEPE Average: ', AEPE_avg)"
      ],
      "execution_count": 0,
      "outputs": [
        {
          "output_type": "stream",
          "text": [
            "Fl-All Average: 0.6007032771338089\n",
            "AEPE Average:  28.837218987951555\n"
          ],
          "name": "stdout"
        }
      ]
    },
    {
      "cell_type": "markdown",
      "metadata": {
        "id": "0fs_fKK1VU1y",
        "colab_type": "text"
      },
      "source": [
        "## Dense LK"
      ]
    },
    {
      "cell_type": "code",
      "metadata": {
        "id": "zOUhbVEuVLq5",
        "colab_type": "code",
        "outputId": "f23e8980-c468-4c9b-82e1-c232abae1f41",
        "colab": {
          "base_uri": "https://localhost:8080/",
          "height": 54
        }
      },
      "source": [
        "from pathlib import Path\n",
        "\n",
        "root_gt = '/content/drive/Shared drives/EECS 504 PWC Net/Data/data_scene_flow/training/flow_occ/'\n",
        "root_est = '/content/drive/Shared drives/EECS 504 PWC Net/Results/Baseline_Results/Dense_LK/image_2/'\n",
        "\n",
        "image_dir = Path(root_gt)\n",
        "\n",
        "im = sorted([os.path.basename(x) for x in image_dir.glob('*_10.png')])\n",
        "FL = np.asarray([])\n",
        "AEPE = np.asarray([])\n",
        "\n",
        "for img_name in im:\n",
        "    F_gt = read_png_flow(root_gt+img_name)\n",
        "    F_est = read_png_flow(root_est+img_name) \n",
        "    fl, aepe = flow_error(F_gt, F_est)\n",
        "    FL = np.append(FL, fl)\n",
        "    AEPE = np.append(AEPE, aepe)\n",
        "\n",
        "FL_avg = np.mean(FL)\n",
        "AEPE_avg = np.mean(AEPE)\n",
        "print('Fl-All Average:', FL_avg)\n",
        "print('AEPE Average: ', AEPE_avg)"
      ],
      "execution_count": 0,
      "outputs": [
        {
          "output_type": "stream",
          "text": [
            "Fl-All Average: 0.6436880852017925\n",
            "AEPE Average:  29.80103836135926\n"
          ],
          "name": "stdout"
        }
      ]
    },
    {
      "cell_type": "code",
      "metadata": {
        "id": "ZURpkF8xYqVf",
        "colab_type": "code",
        "colab": {}
      },
      "source": [
        "from pathlib import Path\n",
        "\n",
        "root_gt = '/content/drive/Shared drives/EECS 504 PWC Net/Data/data_scene_flow/training/flow_occ/'\n",
        "root_est = '/content/drive/Shared drives/EECS 504 PWC Net/Results/Baseline_Results/Dense_LK/image_3/'\n",
        "\n",
        "image_dir = Path(root_gt)\n",
        "\n",
        "im = sorted([os.path.basename(x) for x in image_dir.glob('*_10.png')])\n",
        "FL = np.asarray([])\n",
        "AEPE = np.asarray([])\n",
        "\n",
        "for img_name in im:\n",
        "    F_gt = read_png_flow(root_gt+img_name)\n",
        "    F_est = read_png_flow(root_est+img_name) \n",
        "    fl, aepe = flow_error(F_gt, F_est)\n",
        "    FL = np.append(FL, fl)\n",
        "    AEPE = np.append(AEPE, aepe)\n",
        "\n",
        "FL_avg = np.mean(FL)\n",
        "AEPE_avg = np.mean(AEPE)\n",
        "print('Fl-All Average:', FL_avg)\n",
        "print('AEPE Average: ', AEPE_avg)"
      ],
      "execution_count": 0,
      "outputs": []
    },
    {
      "cell_type": "markdown",
      "metadata": {
        "id": "h2_ckqw9Yux3",
        "colab_type": "text"
      },
      "source": [
        "## PWC-Net\n"
      ]
    },
    {
      "cell_type": "code",
      "metadata": {
        "id": "DN3-Tao8YyZa",
        "colab_type": "code",
        "colab": {}
      },
      "source": [
        ""
      ],
      "execution_count": 0,
      "outputs": []
    }
  ]
}