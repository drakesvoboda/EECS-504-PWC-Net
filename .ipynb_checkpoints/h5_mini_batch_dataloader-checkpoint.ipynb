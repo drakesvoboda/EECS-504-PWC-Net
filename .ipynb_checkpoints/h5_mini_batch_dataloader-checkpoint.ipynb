{
 "cells": [
  {
   "cell_type": "code",
   "execution_count": null,
   "metadata": {
    "scrolled": true
   },
   "outputs": [],
   "source": [
    "import torch \n",
    "from torch.utils.data import Dataset, DataLoader\n",
    "import torchvision.transforms as transforms\n",
    "import torchvision.transforms.functional as TF\n",
    "\n",
    "import os\n",
    "from pathlib import Path\n",
    "import glob\n",
    "\n",
    "import numpy as np\n",
    "import PIL\n",
    "from PIL import Image\n",
    "import matplotlib.pyplot as plt\n",
    "import random\n",
    "\n",
    "from util import *\n",
    "import h5py"
   ]
  },
  {
   "cell_type": "code",
   "execution_count": null,
   "metadata": {
    "scrolled": true
   },
   "outputs": [],
   "source": [
    "class h5_mini_batch(Dataset):\n",
    "    def __init__(self,root):\n",
    "        self.root = Path(root)\n",
    "        self.mini_batches_names = sorted([os.path.basename(f) for f in self.root.glob('*')])\n",
    "        print(self.mini_batches_names)\n",
    "    def __len__(self):\n",
    "        return len(self.mini_batches_names)\n",
    "    def __getitem__(self, idx):\n",
    "        with h5py.File(self.root/self.mini_batches_names[idx], 'r') as f:\n",
    "            img1 = f[\"img1\"][()]\n",
    "            img2 = f[\"img2\"][()]\n",
    "            trg = f[\"target\"][()]\n",
    "            img1_file = torch.from_numpy(img1)\n",
    "            img2_file = torch.from_numpy(img2)\n",
    "            target_file = torch.from_numpy(trg)\n",
    "        return img1_file,img2_file,target_file"
   ]
  },
  {
   "cell_type": "code",
   "execution_count": null,
   "metadata": {
    "scrolled": true
   },
   "outputs": [],
   "source": [
    "flying_chairs_batch = h5_mini_batch(\"./Data/H5/FlyingChairs\")\n",
    "dataset_flyingChairs = torch.utils.data.DataLoader(flying_chairs_batch,batch_size=None,num_workers=2)"
   ]
  },
  {
   "cell_type": "code",
   "execution_count": null,
   "metadata": {
    "scrolled": true
   },
   "outputs": [],
   "source": [
    "for batch_im1,batch_im2,batch_target in dataset_flyingChairs:\n",
    "#     print(\"test\")\n",
    "#     print(inputs1.shape)\n",
    "#     print(inputs2.shape)    \n",
    "#     print(target.shape)\n",
    "    for im1, im2, target in zip(batch_im1, batch_im2, batch_target):\n",
    "        print(im1.shape)\n",
    "        print(im2.shape)\n",
    "        print(target.shape)\n",
    "\n",
    "        im1, im2 = tfms.denorm(im1), tfms.denorm(im2)\n",
    "\n",
    "        im1 = im1.numpy().transpose((1, 2, 0))\n",
    "        im2 = im2.numpy().transpose((1, 2, 0))\n",
    "        target = flow2rgb(target.numpy())\n",
    "\n",
    "        fig, ax = plt.subplots(1,3, figsize=(24, 24))\n",
    "\n",
    "        ax[0].imshow(im1)\n",
    "        ax[1].imshow(im2)\n",
    "        ax[2].imshow(target)"
   ]
  },
  {
   "cell_type": "code",
   "execution_count": null,
   "metadata": {
    "scrolled": true
   },
   "outputs": [],
   "source": [
    "print(dataset_flyingChairs)"
   ]
  },
  {
   "cell_type": "code",
   "execution_count": null,
   "metadata": {},
   "outputs": [],
   "source": []
  }
 ],
 "metadata": {
  "@webio": {
   "lastCommId": null,
   "lastKernelId": null
  },
  "kernelspec": {
   "display_name": "Python 3.7.7 64-bit ('pytorch-nn': conda)",
   "language": "python",
   "name": "python37764bitpytorchnnconda8958d70c3a234958ba5a30e6d93d4a5a"
  },
  "language_info": {
   "codemirror_mode": {
    "name": "ipython",
    "version": 3
   },
   "file_extension": ".py",
   "mimetype": "text/x-python",
   "name": "python",
   "nbconvert_exporter": "python",
   "pygments_lexer": "ipython3",
   "version": "3.7.7"
  }
 },
 "nbformat": 4,
 "nbformat_minor": 4
}
